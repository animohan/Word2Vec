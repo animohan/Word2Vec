{
 "cells": [
  {
   "cell_type": "markdown",
   "metadata": {},
   "source": [
    "### Support Functions for Word2Vec Model"
   ]
  },
  {
   "cell_type": "code",
   "execution_count": 1,
   "metadata": {},
   "outputs": [
    {
     "ename": "SyntaxError",
     "evalue": "invalid syntax (<ipython-input-1-d92dcfd30534>, line 14)",
     "output_type": "error",
     "traceback": [
      "\u001b[1;36m  File \u001b[1;32m\"<ipython-input-1-d92dcfd30534>\"\u001b[1;36m, line \u001b[1;32m14\u001b[0m\n\u001b[1;33m    normalization factor = np.sum(unnormalized_probability, axis = 1)\u001b[0m\n\u001b[1;37m                       ^\u001b[0m\n\u001b[1;31mSyntaxError\u001b[0m\u001b[1;31m:\u001b[0m invalid syntax\n"
     ]
    }
   ],
   "source": [
    "def softmax(x):\n",
    "    \"\"\" Computes row-wise softmax of an input Matrix. \n",
    "    \n",
    "    Arguments:\n",
    "    X is a NxD matrix\n",
    "\n",
    "    \"\"\"\n",
    "    num_classes = np.shape(x)[0]\n",
    "    num_train_samples = np.shape(X)[1]\n",
    "    \n",
    "    #Calculate the unnormalized probability by exponentiating\n",
    "    unnormalized_probability = np.exp(x)\n",
    "    \n",
    "    normalization_factor = np.sum(unnormalized_probability, axis = 1)\n",
    "    \n",
    "    normalized_probability unnormalized_probability/normalization_factor"
   ]
  },
  {
   "cell_type": "code",
   "execution_count": null,
   "metadata": {},
   "outputs": [],
   "source": []
  }
 ],
 "metadata": {
  "kernelspec": {
   "display_name": "Python 3",
   "language": "python",
   "name": "python3"
  },
  "language_info": {
   "codemirror_mode": {
    "name": "ipython",
    "version": 3
   },
   "file_extension": ".py",
   "mimetype": "text/x-python",
   "name": "python",
   "nbconvert_exporter": "python",
   "pygments_lexer": "ipython3",
   "version": "3.6.5"
  }
 },
 "nbformat": 4,
 "nbformat_minor": 2
}
